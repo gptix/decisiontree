{
 "cells": [
  {
   "cell_type": "code",
   "execution_count": 1,
   "metadata": {},
   "outputs": [],
   "source": [
    "training_data = [\n",
    "    ['Green', 3, 'Apple'],\n",
    "    ['Yellow', 3, 'Apple'],\n",
    "    ['Red', 1, 'Grape'],\n",
    "    ['Red', 1, 'Grape'],\n",
    "    ['Yellow', 3, 'Lemon'],\n",
    "]"
   ]
  },
  {
   "cell_type": "code",
   "execution_count": 13,
   "metadata": {},
   "outputs": [],
   "source": [
    "def distinct(rows, col):\n",
    "    \"\"\"Return the set of values from a specific column in a matrix.\"\"\"\n",
    "    return set([row[col] for row in rows])"
   ]
  },
  {
   "cell_type": "code",
   "execution_count": 14,
   "metadata": {},
   "outputs": [],
   "source": [
    "def tally(rows):\n",
    "    \"\"\"Counts occurrences of specific values. Returns a \n",
    "    dict of    label: count    pairs.\"\"\"\n",
    "    tal = {} \n",
    "    for row in rows:\n",
    "        # label is rightmost column\n",
    "        label = row[-1]\n",
    "        if label not in tal:\n",
    "            tal[label] = 0 # add an entry for a new label\n",
    "        tal[label] += 1\n",
    "    return tal"
   ]
  },
  {
   "cell_type": "code",
   "execution_count": 2,
   "metadata": {},
   "outputs": [],
   "source": [
    "class Tester:\n",
    "    \"\"\"A test to choose to which of two lists a tested row should be added.\"\"\"\n",
    "    \n",
    "    def __init__(self, col, val):\n",
    "        self.col = col # index of a column in a matrix.  Identifies a 'variable'\n",
    "        self.val = val # the value of a 'variable'\n",
    "        \n",
    "    def passes(self, test_case):\n",
    "        # Compare the feature value to a test value.\n",
    "        test_val = test_case[self.col]\n",
    "        if isinstance(self.val, int) or isinstance(self.val,float):\n",
    "            \n",
    "            # use greater than or equal for numeric values\n",
    "            return test_val >= self.val\n",
    "        else:\n",
    "            \n",
    "            # use double equals for string values\n",
    "            return test_val == self.val\n",
    "        \n",
    "\n",
    "    def __repr__(self):\n",
    "        # Print the actual test being applied.\n",
    "        if isinstance(self.val, int) or isinstance(self.val,float):\n",
    "            test = \">=\"\n",
    "        else:\n",
    "            test = \"==\"\n",
    "        return f\"Test whether {str(self.val)} matches column {self.col}, using {test}\""
   ]
  },
  {
   "cell_type": "code",
   "execution_count": 4,
   "metadata": {},
   "outputs": [],
   "source": [
    "def split(data_rows, test):\n",
    "    \"\"\"Divides a data set into two 'child' datasets, using a test.\n",
    "    \n",
    "    For each row, if the test returns True, that row will be added to \n",
    "    the list 'true_rows'. If the test does not return True, the row is\n",
    "    added to 'false rows'.\n",
    "    \"\"\"\n",
    "    true_rows = []\n",
    "    false_rows = []\n",
    "    for row_to_test in data_rows:\n",
    "        if test.passes(row_to_test):\n",
    "            true_rows.append(row_to_test)\n",
    "        else:\n",
    "            false_rows.append(row_to_test)\n",
    "            \n",
    "    return true_rows, false_rows"
   ]
  },
  {
   "cell_type": "code",
   "execution_count": 12,
   "metadata": {},
   "outputs": [
    {
     "data": {
      "text/plain": [
       "([['Yellow', 3, 'Apple'], ['Yellow', 3, 'Lemon']],\n",
       " [['Green', 3, 'Apple'], ['Red', 1, 'Grape'], ['Red', 1, 'Grape']])"
      ]
     },
     "execution_count": 12,
     "metadata": {},
     "output_type": "execute_result"
    }
   ],
   "source": [
    "true_rows, false_rows = split(training_data, Tester(0, 'Yellow'))\n",
    "true_rows, false_rows"
   ]
  },
  {
   "cell_type": "code",
   "execution_count": 19,
   "metadata": {},
   "outputs": [
    {
     "data": {
      "text/plain": [
       "0.5"
      ]
     },
     "execution_count": 19,
     "metadata": {},
     "output_type": "execute_result"
    }
   ],
   "source": [
    "def gini_impurity(rows):\n",
    "    \"\"\"Calculate the Gini impurity for a set of values in rows.\n",
    "    \"\"\"\n",
    "    label_counts = tally(rows)\n",
    "    \n",
    "    impurity = 1 # start with complete impurity\n",
    "    \n",
    "    # adjust impurity for each label\n",
    "    for label in label_counts:\n",
    "        label_probability = label_counts[label] / float(len(rows))\n",
    "        impurity -= label_probability**2 \n",
    "        \n",
    "    return impurity\n",
    "\n",
    "gini_impurity([['foo'], ['foo']])\n",
    "gini_impurity([['baz'], ['bar']])\n"
   ]
  },
  {
   "cell_type": "code",
   "execution_count": 20,
   "metadata": {},
   "outputs": [],
   "source": [
    "def best_split(rows):\n",
    "    \"\"\"Given a set of observations, iterate over each pair \n",
    "    of feature and value.\n",
    "    Calculate information gain.\n",
    "    Retain best pair each iteration.\"\"\"\n",
    "    \n",
    "    # Initialize variables to track best gain and\n",
    "    # the test question used to get that gain.\n",
    "    best_gain = 0 \n",
    "    best_test_q = None  # keep train of the feature / value that produced it\n",
    "    \n",
    "    uncertainty = gini_impurity(rows)\n",
    "    col_count = len(rows[0]) - 1  \n",
    "\n",
    "    for col in range(col_count):  # iterate over features\n",
    "\n",
    "        distinct_vals = set([row[col] for row in rows])\n",
    "\n",
    "        for val in vals:\n",
    "\n",
    "            test_question = Tester(col, val)\n",
    "\n",
    "            # Try to split rows into subsets\n",
    "            true_rows, false_rows = split(rows, test_question)\n",
    "\n",
    "            # If there is no split, ignore.\n",
    "            if len(true_rows) == 0 or len(false_rows) == 0:\n",
    "                continue\n",
    "\n",
    "            # Calculate information gain\n",
    "            gain = info_gain(true_rows, false_rows, uncertainty)\n",
    "\n",
    "            if gain > best_gain:\n",
    "                best_gain, best_test_q = gain, test_question\n",
    "\n",
    "    return best_gain, best_test_q"
   ]
  },
  {
   "cell_type": "code",
   "execution_count": 6,
   "metadata": {},
   "outputs": [],
   "source": [
    "import numpy as np\n",
    "\n",
    "test_data_file = 'data_banknote_authentication.csv'\n",
    "\n",
    "class DecisionTreeClassifier:\n",
    "    \"\"\"A decision tree classifier. Uses data in a matrix to predict classifications.\n",
    "    Builds decision tree using Classification And Regression Tree (CART).\n",
    "    \n",
    "    Uncertainty at nodes is calculated using Gini Impurity.\n",
    "    \n",
    "    Input is expected to consist of a 2-dimensional array, a list of 'rows'.\n",
    "    \n",
    "    For each row, all but the rightmost element are 'features' to be used to \n",
    "    predict a 'class'.\n",
    "    \"\"\"\n",
    "    \n",
    "    \n",
    "    def __init__(self, x, Y, labels):\n",
    "        self.x = x\n",
    "        self.Y = Y\n",
    "        self.labels = labels\n",
    "    \n",
    "    def fit(self, X_matrix, y_vector):\n",
    "        \"\"\"Builds a decision tree.\"\"\"\n",
    "        return X_matrix\n",
    "    \n",
    "    \n",
    "    def predict(self):\n",
    "        \"\"\"Takes an input vector, and returns the class the decision tree predicts.\"\"\"\n",
    "        pass"
   ]
  },
  {
   "cell_type": "code",
   "execution_count": 7,
   "metadata": {},
   "outputs": [
    {
     "data": {
      "text/plain": [
       "['color', 'size', 'fruit type']"
      ]
     },
     "execution_count": 7,
     "metadata": {},
     "output_type": "execute_result"
    }
   ],
   "source": [
    "\n",
    "\n",
    "X_matrix = [row[0:2] for row in training_data]\n",
    "y_vector = [row[2] for row in training_data]\n",
    "\n",
    "labels = ['color', 'size', 'fruit type']\n",
    "\n",
    "foo = DecisionTreeClassifier(X_matrix, y_vector, labels)\n",
    "\n",
    "foo.labels"
   ]
  },
  {
   "cell_type": "code",
   "execution_count": 8,
   "metadata": {},
   "outputs": [],
   "source": []
  },
  {
   "cell_type": "code",
   "execution_count": 9,
   "metadata": {},
   "outputs": [],
   "source": []
  },
  {
   "cell_type": "code",
   "execution_count": 10,
   "metadata": {},
   "outputs": [
    {
     "data": {
      "text/plain": [
       "1.5"
      ]
     },
     "execution_count": 10,
     "metadata": {},
     "output_type": "execute_result"
    }
   ],
   "source": []
  },
  {
   "cell_type": "code",
   "execution_count": null,
   "metadata": {},
   "outputs": [],
   "source": []
  }
 ],
 "metadata": {
  "kernelspec": {
   "display_name": "Python 3",
   "language": "python",
   "name": "python3"
  },
  "language_info": {
   "codemirror_mode": {
    "name": "ipython",
    "version": 3
   },
   "file_extension": ".py",
   "mimetype": "text/x-python",
   "name": "python",
   "nbconvert_exporter": "python",
   "pygments_lexer": "ipython3",
   "version": "3.7.6"
  }
 },
 "nbformat": 4,
 "nbformat_minor": 4
}
