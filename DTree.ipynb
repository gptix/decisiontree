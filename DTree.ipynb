{
 "cells": [
  {
   "cell_type": "code",
   "execution_count": 1,
   "metadata": {},
   "outputs": [],
   "source": [
    "class DecisionTree:\n",
    "    def __init__(self, rows, colnames=None):\n",
    "        self.rows = rows\n",
    "        if colnames is None:\n",
    "            colnames = ['column_' + str(i) for i in range(len(rows[0]))]\n",
    "            \n",
    "    def fit(self):\n",
    "        self.tree = build_tree(self.rows)\n",
    "        \n",
    "    def predict(self, data):\n",
    "        \"\"\"Wrapper method to run 'predict_inner.'\"\"\"\n",
    "        # TODO: unify classes 'DecisionTree' and 'DecisionNode'\n",
    "        # They are basically the same thing.\n",
    "        node = self.tree\n",
    "        return predict_inner(data, node)"
   ]
  },
  {
   "cell_type": "code",
   "execution_count": 2,
   "metadata": {},
   "outputs": [],
   "source": [
    "class DecisionNode:\n",
    "    \"\"\"Holds a test to be applied, and pointers to two child nodes.\n",
    "    Each child node can be a further DecisionNode, or a LeafNode.\n",
    "    \"\"\"\n",
    "\n",
    "    def __init__(self, tester, true_side, false_side):\n",
    "        self.tester = tester\n",
    "        self.true_side = true_side\n",
    "        self.false_side = false_side"
   ]
  },
  {
   "cell_type": "code",
   "execution_count": 3,
   "metadata": {},
   "outputs": [],
   "source": [
    "class LeafNode:\n",
    "    \"\"\"Holds info about features.\n",
    "    \n",
    "    A single entry dict of feature value (classification) and \n",
    "    the count of times the feature value appears in the overall \n",
    "    input set.\n",
    "    \"\"\"\n",
    "\n",
    "    def __init__(self, rows):\n",
    "        self.predictions = tally(rows)"
   ]
  },
  {
   "cell_type": "code",
   "execution_count": 4,
   "metadata": {},
   "outputs": [],
   "source": [
    "def distinct(rows, col):\n",
    "    \"\"\"Return the set of values from a specific column in a matrix.\"\"\"\n",
    "    return set([row[col] for row in rows])\n",
    "\n",
    "# tested"
   ]
  },
  {
   "cell_type": "code",
   "execution_count": 5,
   "metadata": {},
   "outputs": [],
   "source": [
    "def tally(rows):\n",
    "    \"\"\"Counts occurrences of specific values. Returns a \n",
    "    dict of    label: count    pairs.\"\"\"\n",
    "    tal = {} \n",
    "    for row in rows:\n",
    "        # label is rightmost column\n",
    "        label = row[-1]\n",
    "        if label not in tal:\n",
    "            tal[label] = 0 # add an entry for a new label\n",
    "        tal[label] += 1\n",
    "    return tal\n",
    "\n",
    "# tested"
   ]
  },
  {
   "cell_type": "code",
   "execution_count": 6,
   "metadata": {},
   "outputs": [],
   "source": [
    "class Tester:\n",
    "    \"\"\"A test to choose to which of two lists a tested row should be added.\"\"\"\n",
    "    \n",
    "    def __init__(self, col, val):\n",
    "        self.col = col # index of a column in a matrix.  Identifies a 'variable'\n",
    "        self.val = val # the value of a 'variable'\n",
    "        \n",
    "    def passes(self, test_case):\n",
    "        # Compare the feature value to a test value.\n",
    "        test_val = test_case[self.col]\n",
    "        if isinstance(self.val, int) or isinstance(self.val,float):\n",
    "            \n",
    "            # use greater than or equal for numeric values\n",
    "            return test_val >= self.val\n",
    "        else:\n",
    "            \n",
    "            # use double equals for string values\n",
    "            return test_val == self.val\n",
    "        \n",
    "\n",
    "    def __repr__(self):\n",
    "        # Print the actual test being applied.\n",
    "        if isinstance(self.val, int) or isinstance(self.val,float):\n",
    "            test = \">=\"\n",
    "        else:\n",
    "            test = \"==\"\n",
    "        return f\"Test whether {str(self.val)} matches column {self.col}, using {test}\"\n",
    "    \n",
    "# tested"
   ]
  },
  {
   "cell_type": "code",
   "execution_count": 7,
   "metadata": {},
   "outputs": [],
   "source": [
    "def split(data_rows, test):\n",
    "    \"\"\"Divides a data set into two 'child' datasets, using a test.\n",
    "    \n",
    "    For each row, if the test returns True, that row will be added to \n",
    "    the list 'true_rows'. If the test does not return True, the row is\n",
    "    added to 'false rows'.\n",
    "    \"\"\"\n",
    "    true_rows = []\n",
    "    false_rows = []\n",
    "    for row_to_test in data_rows:\n",
    "        if test.passes(row_to_test):\n",
    "            true_rows.append(row_to_test)\n",
    "        else:\n",
    "            false_rows.append(row_to_test)\n",
    "            \n",
    "    return true_rows, false_rows\n",
    "\n",
    "# tested"
   ]
  },
  {
   "cell_type": "code",
   "execution_count": 8,
   "metadata": {},
   "outputs": [],
   "source": [
    "def gini_impurity(rows):\n",
    "    \"\"\"Calculate the Gini impurity for a set of values in rows.\n",
    "    \"\"\"\n",
    "    label_counts = tally(rows)\n",
    "    \n",
    "    impurity = 1 # start with complete impurity\n",
    "    \n",
    "    # adjust impurity for each label\n",
    "    for label in label_counts:\n",
    "        label_probability = label_counts[label] / float(len(rows))\n",
    "        impurity -= label_probability**2 \n",
    "        \n",
    "    return impurity\n",
    "\n",
    "# tested"
   ]
  },
  {
   "cell_type": "code",
   "execution_count": 9,
   "metadata": {},
   "outputs": [],
   "source": [
    "def information_gain(left_child, right_child, uncertainty):\n",
    "    \"\"\"Information Gain.\n",
    "\n",
    "    Defined as the result of subtracting the WEIGHTED impurities of two \n",
    "    CHILDREN from UNCERTAINTY of the CURRENT node.\n",
    "    \"\"\"\n",
    "    prob = float(len(left_child)) / (len(left_child) + len(right_child))\n",
    "    \n",
    "    ig = uncertainty - prob * gini_impurity(left_child) - (1 - prob) * gini_impurity(right_child)\n",
    "    return ig\n",
    "\n",
    "# tested"
   ]
  },
  {
   "cell_type": "code",
   "execution_count": 10,
   "metadata": {},
   "outputs": [],
   "source": [
    "def best_split(rows):\n",
    "    \"\"\"Given a set of observations, \n",
    "    - iterate over each pair of feature and value.\n",
    "      - Calculate information gain.\n",
    "      - Retain best pair each iteration.\n",
    "    - Return final best pair.\"\"\"\n",
    "    \n",
    "    # Initialize variables to track best gain and\n",
    "    # the test question used to get that gain.\n",
    "    best_gain = 0 \n",
    "    best_test_q = None  # keep train of the feature / value that produced it\n",
    "    \n",
    "    uncertainty = gini_impurity(rows)\n",
    "    col_count = len(rows[0]) - 1  \n",
    "\n",
    "    for col in range(col_count):  # iterate over features\n",
    "\n",
    "        distinct_vals = set([row[col] for row in rows])\n",
    "\n",
    "        for val in distinct_vals:\n",
    "\n",
    "            test_question = Tester(col, val)\n",
    "\n",
    "            # Try to split rows into subsets\n",
    "            true_rows, false_rows = split(rows, test_question)\n",
    "\n",
    "            # If there is no split, ignore.\n",
    "            if len(true_rows) == 0 or len(false_rows) == 0:\n",
    "                continue\n",
    "\n",
    "            # Calculate information gain\n",
    "            gain = information_gain(true_rows, false_rows, uncertainty)\n",
    "\n",
    "            if gain > best_gain:\n",
    "                best_gain, best_test_q = gain, test_question\n",
    "\n",
    "    return best_gain, best_test_q"
   ]
  },
  {
   "cell_type": "code",
   "execution_count": 11,
   "metadata": {},
   "outputs": [],
   "source": [
    "def build_tree(rows):\n",
    "    \"\"\"Recursively builds a decision tree to classify entries in the input rows.\n",
    "    DecisionNodes hold test questions and subtrees.\n",
    "    LeafNodes hold feature classifications and counts of those.\n",
    "    \"\"\"\n",
    "\n",
    "    # Split the data (if possible).\n",
    "    # find information gain per possible tests.\n",
    "    # get best test.\n",
    "    gain, tester = best_split(rows)\n",
    "\n",
    "    # Base case: stop recursing, because we cannot gain \n",
    "    # more info by testing.\n",
    "    # Create a LeafNode.\n",
    "    if gain == 0:\n",
    "        return LeafNode(rows)\n",
    "\n",
    "    # Recursive case.  We found a test that delivers info gain.\n",
    "    # Extend tree.\n",
    "    true_rows, false_rows = split(rows, tester)\n",
    "    true_subtree = build_tree(true_rows)\n",
    "    false_subtree = build_tree(false_rows)\n",
    "\n",
    "    # Build DecisionNode using subtrees just built, and the best test found.\n",
    "    return DecisionNode(tester, true_subtree, false_subtree)"
   ]
  },
  {
   "cell_type": "code",
   "execution_count": 12,
   "metadata": {},
   "outputs": [],
   "source": [
    "def print_tree(node, spacing=\"\"):\n",
    "    \"\"\"Print out tree structure.\"\"\"\n",
    "\n",
    "    # Base case: Leaf node\n",
    "    if isinstance(node, LeafNode):\n",
    "        print (spacing + \"Prediction: \", node.predictions)\n",
    "        return\n",
    "\n",
    "    print (spacing + str(node.tester))\n",
    "\n",
    "    # Recurse down true branch\n",
    "    print (spacing + '--> True:')\n",
    "    print_tree(node.true_side, spacing + \"  \")\n",
    "\n",
    "    # Recurse down false branch\n",
    "    print (spacing + '--> False:')\n",
    "    print_tree(node.false_side, spacing + \"  \")"
   ]
  },
  {
   "cell_type": "code",
   "execution_count": 13,
   "metadata": {},
   "outputs": [],
   "source": [
    "def predict_inner(row, node):\n",
    "    \"\"\"Helper function to be called by wrapper method 'predict'.\"\"\"\n",
    "\n",
    "    # Base case: Leaf node.\n",
    "    if isinstance(node, LeafNode):\n",
    "        return node.predictions\n",
    "\n",
    "    # Recurse case.\n",
    "    # Use this node's tester to choose a side to recurse down.\n",
    "    if node.tester.passes(row):\n",
    "        return predict_inner(row, node.true_side)\n",
    "    else:\n",
    "        return predict_inner(row, node.false_side)"
   ]
  },
  {
   "cell_type": "code",
   "execution_count": 14,
   "metadata": {},
   "outputs": [],
   "source": [
    "training_data = [\n",
    "    ['Green', 3, 'Apple'],\n",
    "    ['Yellow', 3, 'Apple'],\n",
    "    ['Red', 1, 'Grape'],\n",
    "    ['Red', 1, 'Grape'],\n",
    "    ['Yellow', 3, 'Lemon'],\n",
    "]"
   ]
  },
  {
   "cell_type": "code",
   "execution_count": 15,
   "metadata": {},
   "outputs": [
    {
     "data": {
      "text/plain": [
       "{'Apple': 1}"
      ]
     },
     "execution_count": 15,
     "metadata": {},
     "output_type": "execute_result"
    }
   ],
   "source": [
    "too = DecisionTree(training_data)\n",
    "too.fit()\n",
    "too.predict(training_data[0])"
   ]
  }
 ],
 "metadata": {
  "kernelspec": {
   "display_name": "Python 3",
   "language": "python",
   "name": "python3"
  },
  "language_info": {
   "codemirror_mode": {
    "name": "ipython",
    "version": 3
   },
   "file_extension": ".py",
   "mimetype": "text/x-python",
   "name": "python",
   "nbconvert_exporter": "python",
   "pygments_lexer": "ipython3",
   "version": "3.7.6"
  }
 },
 "nbformat": 4,
 "nbformat_minor": 4
}
